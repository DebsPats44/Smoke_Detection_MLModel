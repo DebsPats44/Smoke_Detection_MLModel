{
 "cells": [
  {
   "cell_type": "code",
   "execution_count": 2,
   "metadata": {},
   "outputs": [],
   "source": [
    "import pandas as pd\n",
    "import numpy as np\n",
    "from sklearn import svm\n",
    "import matplotlib.pyplot as plt \n",
    "import seaborn as sns"
   ]
  },
  {
   "cell_type": "markdown",
   "metadata": {},
   "source": [
    "READING DATA"
   ]
  },
  {
   "cell_type": "code",
   "execution_count": 3,
   "metadata": {},
   "outputs": [],
   "source": [
    "df=pd.read_csv(\"smoke_detection_iot.csv\")"
   ]
  },
  {
   "attachments": {},
   "cell_type": "markdown",
   "metadata": {},
   "source": [
    "EDA"
   ]
  },
  {
   "cell_type": "code",
   "execution_count": 4,
   "metadata": {},
   "outputs": [
    {
     "name": "stdout",
     "output_type": "stream",
     "text": [
      "Unnamed: 0        0\n",
      "UTC               0\n",
      "Temperature[C]    0\n",
      "Humidity[%]       0\n",
      "TVOC[ppb]         0\n",
      "eCO2[ppm]         0\n",
      "Raw H2            0\n",
      "Raw Ethanol       0\n",
      "Pressure[hPa]     0\n",
      "PM1.0             0\n",
      "PM2.5             0\n",
      "NC0.5             0\n",
      "NC1.0             0\n",
      "NC2.5             0\n",
      "CNT               0\n",
      "Fire Alarm        0\n",
      "dtype: int64\n"
     ]
    }
   ],
   "source": [
    "print(df.isnull().sum())\n"
   ]
  },
  {
   "cell_type": "code",
   "execution_count": 5,
   "metadata": {},
   "outputs": [
    {
     "name": "stdout",
     "output_type": "stream",
     "text": [
      "0\n"
     ]
    }
   ],
   "source": [
    "print(df.duplicated().sum())"
   ]
  },
  {
   "cell_type": "code",
   "execution_count": 6,
   "metadata": {},
   "outputs": [
    {
     "name": "stdout",
     "output_type": "stream",
     "text": [
      "         Unnamed: 0           UTC  Temperature[C]   Humidity[%]     TVOC[ppb]  \\\n",
      "count  62630.000000  6.263000e+04    62630.000000  62630.000000  62630.000000   \n",
      "mean   31314.500000  1.654792e+09       15.970424     48.539499   1942.057528   \n",
      "std    18079.868017  1.100025e+05       14.359576      8.865367   7811.589055   \n",
      "min        0.000000  1.654712e+09      -22.010000     10.740000      0.000000   \n",
      "25%    15657.250000  1.654743e+09       10.994250     47.530000    130.000000   \n",
      "50%    31314.500000  1.654762e+09       20.130000     50.150000    981.000000   \n",
      "75%    46971.750000  1.654778e+09       25.409500     53.240000   1189.000000   \n",
      "max    62629.000000  1.655130e+09       59.930000     75.200000  60000.000000   \n",
      "\n",
      "          eCO2[ppm]        Raw H2   Raw Ethanol  Pressure[hPa]         PM1.0  \\\n",
      "count  62630.000000  62630.000000  62630.000000   62630.000000  62630.000000   \n",
      "mean     670.021044  12942.453936  19754.257912     938.627649    100.594309   \n",
      "std     1905.885439    272.464305    609.513156       1.331344    922.524245   \n",
      "min      400.000000  10668.000000  15317.000000     930.852000      0.000000   \n",
      "25%      400.000000  12830.000000  19435.000000     938.700000      1.280000   \n",
      "50%      400.000000  12924.000000  19501.000000     938.816000      1.810000   \n",
      "75%      438.000000  13109.000000  20078.000000     939.418000      2.090000   \n",
      "max    60000.000000  13803.000000  21410.000000     939.861000  14333.690000   \n",
      "\n",
      "              PM2.5         NC0.5         NC1.0         NC2.5           CNT  \\\n",
      "count  62630.000000  62630.000000  62630.000000  62630.000000  62630.000000   \n",
      "mean     184.467770    491.463608    203.586487     80.049042  10511.386157   \n",
      "std     1976.305615   4265.661251   2214.738556   1083.383189   7597.870997   \n",
      "min        0.000000      0.000000      0.000000      0.000000      0.000000   \n",
      "25%        1.340000      8.820000      1.384000      0.033000   3625.250000   \n",
      "50%        1.880000     12.450000      1.943000      0.044000   9336.000000   \n",
      "75%        2.180000     14.420000      2.249000      0.051000  17164.750000   \n",
      "max    45432.260000  61482.030000  51914.680000  30026.438000  24993.000000   \n",
      "\n",
      "         Fire Alarm  \n",
      "count  62630.000000  \n",
      "mean       0.714626  \n",
      "std        0.451596  \n",
      "min        0.000000  \n",
      "25%        0.000000  \n",
      "50%        1.000000  \n",
      "75%        1.000000  \n",
      "max        1.000000  \n"
     ]
    }
   ],
   "source": [
    "print(df.describe())"
   ]
  },
  {
   "cell_type": "code",
   "execution_count": 7,
   "metadata": {},
   "outputs": [
    {
     "name": "stdout",
     "output_type": "stream",
     "text": [
      "Unnamed: 0       -0.361351\n",
      "UTC              -0.389404\n",
      "Temperature[C]   -0.163902\n",
      "Humidity[%]       0.399846\n",
      "TVOC[ppb]        -0.214743\n",
      "eCO2[ppm]        -0.097006\n",
      "Raw H2            0.107007\n",
      "Raw Ethanol      -0.340652\n",
      "Pressure[hPa]     0.249797\n",
      "PM1.0            -0.110552\n",
      "PM2.5            -0.084916\n",
      "NC0.5            -0.128118\n",
      "NC1.0            -0.082828\n",
      "NC2.5            -0.057707\n",
      "CNT               0.673762\n",
      "Fire Alarm        1.000000\n",
      "Name: Fire Alarm, dtype: float64\n"
     ]
    }
   ],
   "source": [
    "print(df.corr()[\"Fire Alarm\"])"
   ]
  },
  {
   "cell_type": "markdown",
   "metadata": {},
   "source": [
    "DEFINING FEATURES AND LABELS"
   ]
  },
  {
   "cell_type": "code",
   "execution_count": null,
   "metadata": {},
   "outputs": [],
   "source": [
    "Oxy=np.array((df['Oxygen'].values).reshape(-1,1))\n",
    "Temp=np.array((df['Temperature[C]'].values).reshape(-1,1))\n",
    "Hum=np.array((df['Humidity'].values).reshape(-1,1))"
   ]
  }
 ],
 "metadata": {
  "kernelspec": {
   "display_name": "Python 3",
   "language": "python",
   "name": "python3"
  },
  "language_info": {
   "codemirror_mode": {
    "name": "ipython",
    "version": 3
   },
   "file_extension": ".py",
   "mimetype": "text/x-python",
   "name": "python",
   "nbconvert_exporter": "python",
   "pygments_lexer": "ipython3",
   "version": "3.10.10"
  },
  "orig_nbformat": 4
 },
 "nbformat": 4,
 "nbformat_minor": 2
}
